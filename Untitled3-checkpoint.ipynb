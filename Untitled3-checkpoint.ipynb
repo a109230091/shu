{
 "cells": [
  {
   "cell_type": "code",
   "execution_count": 1,
   "metadata": {
    "scrolled": true
   },
   "outputs": [
    {
     "name": "stdout",
     "output_type": "stream",
     "text": [
      "|     12345       12  1234567|\n",
      "|        12  1234567      123|\n",
      "|    123456      123    12345|\n"
     ]
    }
   ],
   "source": [
    "#ch2 1(a)\n",
    "print('|%10d%9d%9d|'%(12345,12,1234567))\n",
    "print('|%10d%9d%9d|'%(12,1234567,123))\n",
    "print('|%10d%9d%9d|'%(123456,123,12345))"
   ]
  },
  {
   "cell_type": "code",
   "execution_count": 3,
   "metadata": {},
   "outputs": [
    {
     "name": "stdout",
     "output_type": "stream",
     "text": [
      "deprtment   \n",
      "of          \n",
      "computer    \n",
      "science     \n",
      "\n"
     ]
    }
   ],
   "source": [
    "#(b)\n",
    "print(format('deprtment','12s'))\n",
    "print(format('of','12s'))\n",
    "print(format('computer','12s'))\n",
    "print(format('science','12s'))\n",
    "print()"
   ]
  },
  {
   "cell_type": "code",
   "execution_count": 4,
   "metadata": {},
   "outputs": [
    {
     "name": "stdout",
     "output_type": "stream",
     "text": [
      "   deprtment\n",
      "          of\n",
      "    computer\n",
      "     science\n"
     ]
    }
   ],
   "source": [
    "#(c)\n",
    "print(format('deprtment','>12s'))\n",
    "print(format('of','>12s'))\n",
    "print(format('computer','>12s'))\n",
    "print(format('science','>12s'))"
   ]
  },
  {
   "cell_type": "code",
   "execution_count": 6,
   "metadata": {},
   "outputs": [
    {
     "name": "stdout",
     "output_type": "stream",
     "text": [
      "    123.46\n",
      "  12345.68\n",
      "i=100\n",
      "i=100,j=200\n"
     ]
    }
   ],
   "source": [
    "#(d)\n",
    "print(format(123.456,'10.2f'))\n",
    "print(format(12345.678,'10.2f'))\n",
    "print('i=%d'%(100))\n",
    "print('i=%d,j=%d'%(100,200))"
   ]
  },
  {
   "cell_type": "code",
   "execution_count": 7,
   "metadata": {},
   "outputs": [
    {
     "name": "stdout",
     "output_type": "stream",
     "text": [
      "3.25degree Celsius in Fahrenheit\\is37.85\n",
      "94.50degree Fahrenheit in Celsius\\is34.72\n"
     ]
    }
   ],
   "source": [
    "#(e)\n",
    "print('%.2fdegree Celsius in Fahrenheit\\is%.2f'%(3.25,3.25*1.8+32))\n",
    "print('%.2fdegree Fahrenheit in Celsius\\is%.2f'%(94.5,(94.5-32)/1.8))"
   ]
  },
  {
   "cell_type": "code",
   "execution_count": 8,
   "metadata": {},
   "outputs": [
    {
     "name": "stdout",
     "output_type": "stream",
     "text": [
      "Month          Amount    \n",
      "1              43400.20  \n",
      "2              45430.28  \n",
      "3              48030.48  \n",
      "4              51112.96  \n",
      "5              52857.20  \n"
     ]
    }
   ],
   "source": [
    "#(f)\n",
    "print('%-15s%-10s'%('Month','Amount'))\n",
    "print('%-15d%-10.2f'%(1,43400.2))\n",
    "print('%-15d%-10.2f'%(2,45430.28))\n",
    "print('%-15d%-10.2f'%(3,48030.48))\n",
    "print('%-15d%-10.2f'%(4,51112.96))\n",
    "print('%-15d%-10.2f'%(5,52857.2))"
   ]
  },
  {
   "cell_type": "code",
   "execution_count": 9,
   "metadata": {},
   "outputs": [
    {
     "name": "stdout",
     "output_type": "stream",
     "text": [
      "100 200\n",
      "100\n",
      "200\n",
      "\n"
     ]
    }
   ],
   "source": [
    "#ch3 1(a)\n",
    "a=100\n",
    "b=200\n",
    "c,d=a,b\n",
    "print(c,d)\n",
    "print(c)\n",
    "print(d)\n",
    "print()"
   ]
  },
  {
   "cell_type": "code",
   "execution_count": 10,
   "metadata": {},
   "outputs": [
    {
     "name": "stdout",
     "output_type": "stream",
     "text": [
      "100 200\n",
      "100200***over\n"
     ]
    }
   ],
   "source": [
    "#(b)\n",
    "a=100\n",
    "b=200\n",
    "c,d=a,b\n",
    "print(c,d)\n",
    "print(c,end='')\n",
    "print(d,end=\"***\")\n",
    "print('over')"
   ]
  },
  {
   "cell_type": "code",
   "execution_count": 11,
   "metadata": {},
   "outputs": [
    {
     "name": "stdout",
     "output_type": "stream",
     "text": [
      "100 200\n",
      "100$and\n",
      "200***over\n"
     ]
    }
   ],
   "source": [
    "#(c)\n",
    "a=100\n",
    "b=200\n",
    "c,d=a,b\n",
    "print(c,d)\n",
    "print(c,end='$')\n",
    "print('and')\n",
    "print(d,end=\"***\")\n",
    "print('over')"
   ]
  },
  {
   "cell_type": "code",
   "execution_count": 12,
   "metadata": {},
   "outputs": [
    {
     "name": "stdout",
     "output_type": "stream",
     "text": [
      "300\n",
      "33.333333333333336\n",
      "33\n",
      "1\n",
      "1000000\n",
      "10.0\n"
     ]
    }
   ],
   "source": [
    "#2(a)\n",
    "x=100\n",
    "y=3\n",
    "print(x*y)\n",
    "print(x/y)\n",
    "print(x//y)\n",
    "print(x%y)\n",
    "print(x**y)\n",
    "print(x**0.5)"
   ]
  },
  {
   "cell_type": "code",
   "execution_count": 14,
   "metadata": {},
   "outputs": [
    {
     "name": "stdout",
     "output_type": "stream",
     "text": [
      "hello,python\n",
      "300\n"
     ]
    }
   ],
   "source": [
    "#(b)\n",
    "str1='hello,'\n",
    "str2=\"python\"\n",
    "str3=str1+str2\n",
    "print(str3)\n",
    "a=100\n",
    "b=200\n",
    "c=a+b\n",
    "print(c)"
   ]
  },
  {
   "cell_type": "code",
   "execution_count": 20,
   "metadata": {},
   "outputs": [
    {
     "name": "stdout",
     "output_type": "stream",
     "text": [
      "hello,python,let's learning python now\n"
     ]
    }
   ],
   "source": [
    "#(c)\n",
    "str1='hello,'+\\\n",
    "   'python,let\\'s learning '\n",
    "str2=\"python now\"\n",
    "str3=str1+str2\n",
    "print(str3)"
   ]
  },
  {
   "cell_type": "code",
   "execution_count": 22,
   "metadata": {},
   "outputs": [
    {
     "name": "stdout",
     "output_type": "stream",
     "text": [
      "33\n",
      "1\n",
      "33.333333333333336\n"
     ]
    }
   ],
   "source": [
    "#3(a)\n",
    "a=100\n",
    "b=3\n",
    "a//=b\n",
    "print(a)\n",
    "\n",
    "a=100\n",
    "a%=b\n",
    "print(a)\n",
    "\n",
    "a=100\n",
    "a/=b\n",
    "print(a)"
   ]
  },
  {
   "cell_type": "code",
   "execution_count": 23,
   "metadata": {},
   "outputs": [
    {
     "name": "stdout",
     "output_type": "stream",
     "text": [
      "100 200\n",
      "200 100\n"
     ]
    }
   ],
   "source": [
    "#(b)\n",
    "a=100\n",
    "b=200\n",
    "print(a,b)\n",
    "\n",
    "b,a=a,b\n",
    "print(a,b)"
   ]
  },
  {
   "cell_type": "code",
   "execution_count": 24,
   "metadata": {},
   "outputs": [
    {
     "name": "stdout",
     "output_type": "stream",
     "text": [
      "100 200\n",
      "200 100\n"
     ]
    }
   ],
   "source": [
    "(c)\n",
    "a=100\n",
    "b=200\n",
    "print(a,b)\n",
    "\n",
    "temp=a\n",
    "a=b\n",
    "b=temp\n",
    "print(a,b)"
   ]
  },
  {
   "cell_type": "code",
   "execution_count": 26,
   "metadata": {},
   "outputs": [
    {
     "name": "stdout",
     "output_type": "stream",
     "text": [
      "Enter an integer:20\n",
      "20 120\n",
      "Enter a string:20\n",
      "20i8\n"
     ]
    }
   ],
   "source": [
    "#4\n",
    "a=eval(input('Enter an integer:'))\n",
    "b=a+100\n",
    "print(a,b)\n",
    "\n",
    "str1=input('Enter a string:')\n",
    "str2=str1+'i8'\n",
    "print(str2)"
   ]
  },
  {
   "cell_type": "code",
   "execution_count": 27,
   "metadata": {},
   "outputs": [
    {
     "name": "stdout",
     "output_type": "stream",
     "text": [
      "888\n",
      "100\n",
      "-888\n",
      "100\n",
      "8\n",
      "6\n",
      "123\n",
      "123.46\n"
     ]
    }
   ],
   "source": [
    "#ch4 1\n",
    "a=-888\n",
    "b=100\n",
    "c=10\n",
    "d=2\n",
    "e=0.5\n",
    "print(abs(a))\n",
    "print(max(a,b,c,d,e))\n",
    "print(min(a,b,c,d,e))\n",
    "print(pow(c,d))\n",
    "print(round(7.5))\n",
    "print(round(6.5))\n",
    "print(int(123.456))\n",
    "print(round(123.456,2))"
   ]
  },
  {
   "cell_type": "code",
   "execution_count": 28,
   "metadata": {},
   "outputs": [
    {
     "name": "stdout",
     "output_type": "stream",
     "text": [
      "123.45\n",
      "9\n",
      "8\n",
      "2.718281828459045\n",
      "4.605170185988092\n",
      "2.0\n",
      "1000.0\n"
     ]
    }
   ],
   "source": [
    "#2\n",
    "import math\n",
    "a=math.fabs(-123.45)\n",
    "print(a)\n",
    "\n",
    "b=math.ceil(8.8)\n",
    "print(b)\n",
    "\n",
    "c=math.floor(8.8)\n",
    "print(c)\n",
    "\n",
    "d=math.exp(1)\n",
    "print(d)\n",
    "\n",
    "e=math.log(100)\n",
    "print(e)\n",
    "\n",
    "f=math.log(100,10)\n",
    "print(f)\n",
    "\n",
    "g=math.sqrt(1000000)\n",
    "print(g)"
   ]
  },
  {
   "cell_type": "code",
   "execution_count": 29,
   "metadata": {},
   "outputs": [
    {
     "name": "stdout",
     "output_type": "stream",
     "text": [
      "0.0\n",
      "-2.4492935982947064e-16\n",
      "360.0\n",
      "6.283185307179586\n"
     ]
    }
   ],
   "source": [
    "#3\n",
    "m=math.tan(0)\n",
    "print(m)\n",
    "\n",
    "n=math.tan(2*math.pi)\n",
    "print(n)\n",
    "\n",
    "p=math.degrees(2*math.pi)\n",
    "print(p)\n",
    "\n",
    "q=math.radians(360)\n",
    "print(q)"
   ]
  },
  {
   "cell_type": "code",
   "execution_count": 30,
   "metadata": {},
   "outputs": [
    {
     "name": "stdout",
     "output_type": "stream",
     "text": [
      "apple i8\n",
      "122\n",
      "d\n"
     ]
    }
   ],
   "source": [
    "#4\n",
    "x='apple i'+str(8)\n",
    "print(x)\n",
    "\n",
    "y=ord('z')\n",
    "print(y)\n",
    "\n",
    "z=chr(100)\n",
    "print(z)"
   ]
  },
  {
   "cell_type": "code",
   "execution_count": 4,
   "metadata": {},
   "outputs": [
    {
     "name": "stdout",
     "output_type": "stream",
     "text": [
      "Enter your score:60\n",
      "Your score is 70\n"
     ]
    }
   ],
   "source": [
    "#ch5 1(a)\n",
    "score=eval(input('Enter your score:'))\n",
    "if score>=60:\n",
    "    score+=10\n",
    "print('Your score is %d'%(score))"
   ]
  },
  {
   "cell_type": "code",
   "execution_count": 5,
   "metadata": {},
   "outputs": [
    {
     "name": "stdout",
     "output_type": "stream",
     "text": [
      "Enter your score:50\n",
      "Your score is 58\n"
     ]
    }
   ],
   "source": [
    "#(b)\n",
    "score=eval(input('Enter your score:'))\n",
    "if score>=60:\n",
    "    score+=10\n",
    "else:\n",
    "    score+=8\n",
    "print('Your score is %d'%(score))"
   ]
  },
  {
   "cell_type": "code",
   "execution_count": 7,
   "metadata": {},
   "outputs": [
    {
     "name": "stdout",
     "output_type": "stream",
     "text": [
      "Enter temperature today:29\n",
      "hot\n",
      "over\n"
     ]
    }
   ],
   "source": [
    "#(c)\n",
    "temperature=eval(input('Enter temperature today:'))\n",
    "if temperature>=28:\n",
    "    print('hot')\n",
    "else:\n",
    "    print('comfortable')\n",
    "print('over')"
   ]
  },
  {
   "cell_type": "code",
   "execution_count": 8,
   "metadata": {},
   "outputs": [
    {
     "name": "stdout",
     "output_type": "stream",
     "text": [
      "Enter temperature today:25\n",
      "hot\n",
      "over\n"
     ]
    }
   ],
   "source": [
    "#(d)\n",
    "temperture=eval(input('Enter temperature today:'))\n",
    "if temperature>=28:\n",
    "    print('hot')\n",
    "elif temperature>=22:\n",
    "    print('comfortable')\n",
    "else:\n",
    "    print('cold')\n",
    "print('over')"
   ]
  },
  {
   "cell_type": "code",
   "execution_count": 9,
   "metadata": {},
   "outputs": [
    {
     "name": "stdout",
     "output_type": "stream",
     "text": [
      "Enter temperature today25\n",
      "Enter humility today45\n",
      "Comfortable\n",
      "over\n"
     ]
    }
   ],
   "source": [
    "#(e)\n",
    "temperature=eval(input('Enter temperature today'))\n",
    "humility=eval(input('Enter humility today'))\n",
    "if temperature>=28:\n",
    "    print('hot')\n",
    "elif temperature>=22 and humility>=40 and humility<=50: \n",
    "    print('Comfortable')\n",
    "else:\n",
    "    print('cold')\n",
    "print('over')"
   ]
  },
  {
   "cell_type": "code",
   "execution_count": 11,
   "metadata": {},
   "outputs": [
    {
     "name": "stdout",
     "output_type": "stream",
     "text": [
      "Enter a charactera\n",
      "a is lowercase character\n"
     ]
    }
   ],
   "source": [
    "#(f)\n",
    "char=input('Enter a character')\n",
    "if char>='a' and char<='z':\n",
    "    print('%c is lowercase character'%(char))\n",
    "elif char>='A' and char<='Z':\n",
    "    print('%c is uppercase character'%(char))\n",
    "else:\n",
    "    print('%c is other character'%(char))"
   ]
  },
  {
   "cell_type": "code",
   "execution_count": 12,
   "metadata": {},
   "outputs": [
    {
     "name": "stdout",
     "output_type": "stream",
     "text": [
      "Enter a number8\n",
      "8is even number\n",
      "TEST IS OVER\n"
     ]
    }
   ],
   "source": [
    "#(g)\n",
    "num=eval(input('Enter a number'))\n",
    "if num%2==0:\n",
    "    print('%d'%(num),end='')\n",
    "    print('is even number')\n",
    "else:\n",
    "    print('%d'%(num),end='')\n",
    "    print('is odd number')\n",
    "print('TEST IS OVER')"
   ]
  },
  {
   "cell_type": "code",
   "execution_count": 1,
   "metadata": {},
   "outputs": [
    {
     "name": "stdout",
     "output_type": "stream",
     "text": [
      "1050\n"
     ]
    }
   ],
   "source": [
    "#ch6 1(a)\n",
    "fiveMulti=0\n",
    "k=5\n",
    "while k<=100:\n",
    "    fiveMulti+=k\n",
    "    k+=5\n",
    "print(fiveMulti)"
   ]
  },
  {
   "cell_type": "code",
   "execution_count": 2,
   "metadata": {},
   "outputs": [
    {
     "name": "stdout",
     "output_type": "stream",
     "text": [
      "0123456789\n",
      "23456789\n",
      "13579\n",
      "9753\n"
     ]
    }
   ],
   "source": [
    "#(b)\n",
    "for i in range(10):\n",
    "    print(i,end='')\n",
    "print('')\n",
    "\n",
    "for i in range(2,10):\n",
    "    print(i,end='')\n",
    "print('')\n",
    "\n",
    "for i in range(1,10,2):\n",
    "    print(i,end='')\n",
    "print('')\n",
    "\n",
    "for i in range(9,1,-2):\n",
    "     print(i,end='')\n",
    "print('')\n"
   ]
  },
  {
   "cell_type": "code",
   "execution_count": 3,
   "metadata": {},
   "outputs": [
    {
     "name": "stdout",
     "output_type": "stream",
     "text": [
      "  0  1  2  3  4  5  6  7  8  9\n",
      "  2  3  4  5  6  7  8  9\n",
      "  1  3  5  7  9\n",
      "  9  7  5  3\n"
     ]
    }
   ],
   "source": [
    "#(c)\n",
    "for i in range (10):\n",
    "    print('%3d'%(i),end='')\n",
    "print('')\n",
    "\n",
    "for i in range(2,10):\n",
    "      print('%3d'%(i),end='')\n",
    "print('')\n",
    "\n",
    "for i in range(1,10,2):\n",
    "    print('%3d'%(i),end='')\n",
    "print('')\n",
    "\n",
    "for i in range(9,1,-2):\n",
    "     print('%3d'%(i),end='')\n",
    "print('')"
   ]
  },
  {
   "cell_type": "code",
   "execution_count": 4,
   "metadata": {},
   "outputs": [
    {
     "name": "stdout",
     "output_type": "stream",
     "text": [
      "1+2+3+...+100=5050\n"
     ]
    }
   ],
   "source": [
    "#(d)\n",
    "total=0\n",
    "num=0\n",
    "while True:\n",
    "    num+=1\n",
    "    total+=num\n",
    "    if total>=5050:\n",
    "        break\n",
    "print('1+2+3+...+%d=%d'%(num,total))"
   ]
  },
  {
   "cell_type": "code",
   "execution_count": 8,
   "metadata": {},
   "outputs": [
    {
     "name": "stdout",
     "output_type": "stream",
     "text": [
      "1+3+5..+99= 2500\n"
     ]
    }
   ],
   "source": [
    "#(e)\n",
    "total=0\n",
    "num=1\n",
    "while num<=100:\n",
    "    if num%2==0:\n",
    "        num+=1\n",
    "        continue\n",
    "    total+=num\n",
    "    num+=1\n",
    "print('1+3+5..+99=',total)"
   ]
  },
  {
   "cell_type": "code",
   "execution_count": 9,
   "metadata": {},
   "outputs": [
    {
     "name": "stdout",
     "output_type": "stream",
     "text": [
      "1+3+5..+99= 2500\n"
     ]
    }
   ],
   "source": [
    "#(f)\n",
    "total=0\n",
    "for i in range(1,101):\n",
    "    if i%2==1:\n",
    "        total+=i\n",
    "    else:\n",
    "        continue\n",
    "print('1+3+5..+99=',total)"
   ]
  },
  {
   "cell_type": "code",
   "execution_count": 10,
   "metadata": {},
   "outputs": [
    {
     "name": "stdout",
     "output_type": "stream",
     "text": [
      "**********\n",
      "*********\n",
      "********\n",
      "*******\n",
      "******\n",
      "*****\n",
      "****\n",
      "***\n",
      "**\n",
      "*\n"
     ]
    }
   ],
   "source": [
    "#(g)\n",
    "for i in range(10):\n",
    "    for j in range(i,10):\n",
    "        print('*',end='')\n",
    "    print('')\n",
    "    "
   ]
  },
  {
   "cell_type": "code",
   "execution_count": 11,
   "metadata": {},
   "outputs": [
    {
     "name": "stdout",
     "output_type": "stream",
     "text": [
      "\n",
      "*\n",
      "**\n",
      "***\n",
      "****\n",
      "*****\n",
      "******\n",
      "*******\n",
      "********\n"
     ]
    }
   ],
   "source": [
    "#(h)\n",
    "for i in range(9):\n",
    "    for j in range(i):\n",
    "        print('*',end='')\n",
    "    print('')"
   ]
  },
  {
   "cell_type": "code",
   "execution_count": null,
   "metadata": {},
   "outputs": [],
   "source": []
  }
 ],
 "metadata": {
  "kernelspec": {
   "display_name": "Python 3",
   "language": "python",
   "name": "python3"
  },
  "language_info": {
   "codemirror_mode": {
    "name": "ipython",
    "version": 3
   },
   "file_extension": ".py",
   "mimetype": "text/x-python",
   "name": "python",
   "nbconvert_exporter": "python",
   "pygments_lexer": "ipython3",
   "version": "3.8.3"
  }
 },
 "nbformat": 4,
 "nbformat_minor": 4
}
